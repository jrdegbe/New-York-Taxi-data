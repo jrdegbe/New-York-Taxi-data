{
  "cells": [
    {
      "cell_type": "code",
      "execution_count": 1,
      "metadata": {
        "_cell_guid": "b1076dfc-b9ad-4769-8c92-a6c4dae69d19",
        "_uuid": "8f2839f25d086af736a60e9eeb907d3b93b6e0e5",
        "id": "i7ANOLnRiTAI",
        "trusted": true
      },
      "outputs": [],
      "source": [
        "import pandas as pd\n",
        "import numpy as np\n",
        "import matplotlib.pyplot as plt\n",
        "import seaborn as sns\n",
        "\n",
        "\n",
        "sns.set()"
      ]
    },
    {
      "cell_type": "code",
      "execution_count": null,
      "metadata": {
        "colab": {
          "base_uri": "https://localhost:8080/"
        },
        "id": "6wbCeSZNiTAP",
        "outputId": "b8c38fad-02a4-4ce0-fc90-35d6bb8374de",
        "trusted": true
      },
      "outputs": [],
      "source": [
        "df = pd.read_parquet('data-yellow-202103.parquet')"
      ]
    },
    {
      "cell_type": "code",
      "execution_count": null,
      "metadata": {
        "colab": {
          "base_uri": "https://localhost:8080/",
          "height": 270
        },
        "id": "PPEHKW4uiTAP",
        "outputId": "362fe05b-c4a7-47b6-f092-6e305e632d06",
        "trusted": true
      },
      "outputs": [],
      "source": [
        "df.head()"
      ]
    },
    {
      "cell_type": "code",
      "execution_count": null,
      "metadata": {},
      "outputs": [],
      "source": [
        "df"
      ]
    },
    {
      "cell_type": "code",
      "execution_count": null,
      "metadata": {
        "colab": {
          "base_uri": "https://localhost:8080/"
        },
        "id": "A-lmFinkiTAQ",
        "outputId": "4bd063cd-a33e-47af-8392-5b5a316bbe2a",
        "trusted": true
      },
      "outputs": [],
      "source": [
        "df.shape"
      ]
    },
    {
      "cell_type": "code",
      "execution_count": null,
      "metadata": {
        "colab": {
          "base_uri": "https://localhost:8080/",
          "height": 364
        },
        "id": "nuptbDK8iTAQ",
        "outputId": "bbcbbf8a-d46e-47e0-f32a-764165529f27",
        "trusted": true
      },
      "outputs": [],
      "source": [
        "df.describe()"
      ]
    },
    {
      "cell_type": "code",
      "execution_count": null,
      "metadata": {
        "colab": {
          "base_uri": "https://localhost:8080/"
        },
        "id": "kOVnyvs-iTAR",
        "outputId": "c1827363-819a-429a-d3b9-58babd0c452e",
        "trusted": true
      },
      "outputs": [],
      "source": [
        "df.dtypes"
      ]
    },
    {
      "cell_type": "code",
      "execution_count": null,
      "metadata": {
        "id": "UFrsmfnPiTAS",
        "trusted": true
      },
      "outputs": [],
      "source": [
        "df = df.drop(['airport_fee', 'VendorID', 'congestion_surcharge'], axis= 1)"
      ]
    },
    {
      "cell_type": "code",
      "execution_count": null,
      "metadata": {
        "colab": {
          "base_uri": "https://localhost:8080/"
        },
        "id": "uJciAM2giTAT",
        "outputId": "def6ed6d-9c82-4cb0-ad8e-e34ec05a383d",
        "trusted": true
      },
      "outputs": [],
      "source": [
        "len(df[df['total_amount'] <= 0])"
      ]
    },
    {
      "cell_type": "code",
      "execution_count": null,
      "metadata": {
        "id": "SCzoS55WiTAU",
        "trusted": true
      },
      "outputs": [],
      "source": [
        "df = df[df['total_amount'] > 0]"
      ]
    },
    {
      "cell_type": "code",
      "execution_count": null,
      "metadata": {
        "colab": {
          "base_uri": "https://localhost:8080/"
        },
        "id": "TFsDu9OLiTAU",
        "outputId": "75c44d26-1174-4fbe-cb9a-55c28d688b7e",
        "trusted": true
      },
      "outputs": [],
      "source": [
        "len(df[df['fare_amount'] <= 0])"
      ]
    },
    {
      "cell_type": "code",
      "execution_count": null,
      "metadata": {
        "colab": {
          "base_uri": "https://localhost:8080/"
        },
        "id": "GUpqefudiTAV",
        "outputId": "eb3799e7-4133-4d97-f324-3950b17fb154",
        "trusted": true
      },
      "outputs": [],
      "source": [
        "len(df[df['trip_distance'] <= 0])"
      ]
    },
    {
      "cell_type": "code",
      "execution_count": null,
      "metadata": {
        "colab": {
          "base_uri": "https://localhost:8080/"
        },
        "id": "zQvzZjlbiTAV",
        "outputId": "4370e8e4-712d-468c-bca8-6e311f0acc5d",
        "trusted": true
      },
      "outputs": [],
      "source": [
        "df.groupby('RatecodeID')['trip_distance'].median()"
      ]
    },
    {
      "cell_type": "code",
      "execution_count": null,
      "metadata": {
        "id": "9p3DLy3giTAV",
        "trusted": true
      },
      "outputs": [],
      "source": [
        "df.loc[(df['trip_distance'] <= 0) & (df['RatecodeID'] == 1.0)] = 2.8\n",
        "df.loc[(df['trip_distance'] <= 0) & (df['RatecodeID'] == 2.0)] = 20\n",
        "df.loc[(df['trip_distance'] <= 0) & (df['RatecodeID'] == 3.0)] = 24\n",
        "df.loc[(df['trip_distance'] <= 0) & (df['RatecodeID'] == 4.0)] = 12\n",
        "df.loc[(df['trip_distance'] <= 0) & (df['RatecodeID'] == 5.0)] = 3.1"
      ]
    },
    {
      "cell_type": "code",
      "execution_count": null,
      "metadata": {
        "id": "zZgEkvFwiTAV",
        "trusted": true
      },
      "outputs": [],
      "source": [
        "for i in df.columns[[0, 1]]:\n",
        "    df[i] = pd.to_datetime(df[i])"
      ]
    },
    {
      "cell_type": "code",
      "execution_count": null,
      "metadata": {
        "id": "uCmjFsKEiTAW",
        "trusted": true
      },
      "outputs": [],
      "source": [
        "timedeltas = df['tpep_dropoff_datetime'] - df['tpep_pickup_datetime']\n",
        "trip_duration = []\n",
        "for i in timedeltas :\n",
        "    trip_duration.append(i.total_seconds() / 60)\n",
        "\n",
        "df['trip_duration'] = trip_duration\n",
        "df['trip_duration'] = df['trip_duration'].round(2)"
      ]
    },
    {
      "cell_type": "code",
      "execution_count": null,
      "metadata": {
        "colab": {
          "base_uri": "https://localhost:8080/"
        },
        "id": "5AgxAsx8iTAW",
        "outputId": "d32e53a9-c24f-4156-badd-40dc19490d30",
        "trusted": true
      },
      "outputs": [],
      "source": [
        "df = df[df['trip_duration'] > 1]\n",
        "df.shape"
      ]
    },
    {
      "cell_type": "code",
      "execution_count": null,
      "metadata": {
        "colab": {
          "base_uri": "https://localhost:8080/"
        },
        "id": "C2bHJwAeiTAX",
        "outputId": "1d774e59-c54b-4273-de52-7c71a88ea5e1",
        "trusted": true
      },
      "outputs": [],
      "source": [
        "df['store_and_fwd_flag'].value_counts()"
      ]
    },
    {
      "cell_type": "code",
      "execution_count": null,
      "metadata": {
        "id": "7MXnLcLTiTAX",
        "trusted": true
      },
      "outputs": [],
      "source": [
        "df['store_and_fwd_flag'].fillna('N', inplace= True)"
      ]
    },
    {
      "cell_type": "code",
      "execution_count": null,
      "metadata": {
        "colab": {
          "base_uri": "https://localhost:8080/"
        },
        "id": "SwiTqxr4iTAX",
        "outputId": "435cf835-aa3d-4d16-a018-82a931dcfe78",
        "trusted": true
      },
      "outputs": [],
      "source": [
        "df['payment_type'].value_counts(normalize= True)"
      ]
    },
    {
      "cell_type": "code",
      "execution_count": null,
      "metadata": {
        "id": "hgDs8mXNiTAX",
        "trusted": true
      },
      "outputs": [],
      "source": [
        "df.loc[(df['payment_type'].isna()) & (df['total_amount'] > 50), 'payment_type'] = 1.0\n",
        "df.loc[(df['payment_type'].isna()) & (df['total_amount'] <= 50), 'payment_type'] = 2.0"
      ]
    },
    {
      "cell_type": "code",
      "execution_count": null,
      "metadata": {
        "id": "-uswp6NkiTAY",
        "trusted": true
      },
      "outputs": [],
      "source": [
        "df.loc[(df['RatecodeID'].isna()) & (df['total_amount'] >= 184), 'RatecodeID'] = 4.0\n",
        "df.loc[(df['RatecodeID'].isna()) & (138 <= df['total_amount']) & (df['total_amount']< 184), 'RatecodeID'] = 3.0\n",
        "df.loc[(df['RatecodeID'].isna()) & (79 <= df['total_amount']) & (df['total_amount']< 138), 'RatecodeID'] = 2.0\n",
        "df.loc[(df['RatecodeID'].isna()) & (0 <= df['total_amount']) & (df['total_amount']< 79), 'RatecodeID'] = 1.0"
      ]
    },
    {
      "cell_type": "code",
      "execution_count": null,
      "metadata": {
        "id": "3Lt9L5aviTAY",
        "trusted": true
      },
      "outputs": [],
      "source": [
        "df.loc[df['passenger_count']==0, 'passenger_count'] = 1.0\n",
        "df.loc[df['passenger_count']==7, 'passenger_count'] = 1.0\n",
        "df.loc[df['passenger_count']==32, 'passenger_count'] = 1.0"
      ]
    },
    {
      "cell_type": "code",
      "execution_count": null,
      "metadata": {
        "id": "tEY-n1zwiTAZ",
        "trusted": true
      },
      "outputs": [],
      "source": [
        "df.loc[df['passenger_count'].isna(), 'passenger_count'] = 1.0"
      ]
    },
    {
      "cell_type": "code",
      "execution_count": null,
      "metadata": {
        "colab": {
          "base_uri": "https://localhost:8080/"
        },
        "id": "qbAeQHyPiTAZ",
        "outputId": "2b0f3c2c-bf74-4103-9568-3821e03228ce",
        "trusted": true
      },
      "outputs": [],
      "source": [
        "df.isna().sum()"
      ]
    },
    {
      "cell_type": "code",
      "execution_count": null,
      "metadata": {
        "colab": {
          "base_uri": "https://localhost:8080/",
          "height": 270
        },
        "id": "EJKbdby7iTAZ",
        "outputId": "0673e758-2553-46d5-f8fe-989ef2e4446c",
        "trusted": true
      },
      "outputs": [],
      "source": [
        "df.head()"
      ]
    },
    {
      "cell_type": "code",
      "execution_count": null,
      "metadata": {
        "colab": {
          "base_uri": "https://localhost:8080/"
        },
        "id": "V9sgyzGdiTAZ",
        "outputId": "d0b52d15-1cc2-474f-ef71-e82d90b6e6cf",
        "trusted": true
      },
      "outputs": [],
      "source": [
        "df.shape"
      ]
    },
    {
      "cell_type": "code",
      "execution_count": null,
      "metadata": {
        "colab": {
          "base_uri": "https://localhost:8080/",
          "height": 605
        },
        "id": "q0zkMyMBiTAZ",
        "outputId": "7c856039-429b-44b2-a3b1-7916718f3967",
        "trusted": true
      },
      "outputs": [],
      "source": [
        "plt.figure(figsize= (18, 10))\n",
        "sns.heatmap(df.corr(), annot= True);"
      ]
    },
    {
      "cell_type": "markdown",
      "metadata": {
        "id": "rqZ2yUlmiTAZ"
      },
      "source": [
        "\n",
        "\n",
        "##### Busiest day"
      ]
    },
    {
      "cell_type": "code",
      "execution_count": null,
      "metadata": {
        "id": "IAF26Q8biTAa",
        "trusted": true
      },
      "outputs": [],
      "source": [
        "df['day_of_week'] = df['tpep_pickup_datetime'].dt.day_name()"
      ]
    },
    {
      "cell_type": "code",
      "execution_count": null,
      "metadata": {
        "colab": {
          "base_uri": "https://localhost:8080/",
          "height": 371
        },
        "id": "5sCAdaTHiTAa",
        "outputId": "a35240cc-536d-4aeb-d911-cf4aa14c754b",
        "trusted": true
      },
      "outputs": [],
      "source": [
        "plt.figure(figsize= (18, 7))\n",
        "sns.countplot(y= 'day_of_week', data= df)\n",
        "plt.ylabel('');"
      ]
    },
    {
      "cell_type": "markdown",
      "metadata": {
        "id": "CWIi0JfOiTAa"
      },
      "source": [
        "##### Busiest hour"
      ]
    },
    {
      "cell_type": "code",
      "execution_count": null,
      "metadata": {
        "colab": {
          "base_uri": "https://localhost:8080/",
          "height": 383
        },
        "id": "YTkMKJisiTAa",
        "outputId": "c1c68f7a-34c6-49cc-b0c0-f5071f65da87",
        "trusted": true
      },
      "outputs": [],
      "source": [
        "plt.figure(figsize= (18, 7))\n",
        "sns.countplot(x= df['tpep_pickup_datetime'].dt.hour, data= df, color= 'goldenrod')\n",
        "plt.ylabel('')\n",
        "plt.xlabel('Hour of Day');"
      ]
    },
    {
      "cell_type": "code",
      "execution_count": null,
      "metadata": {},
      "outputs": [],
      "source": [
        "pip install scikit-learn"
      ]
    },
    {
      "cell_type": "code",
      "execution_count": null,
      "metadata": {
        "colab": {
          "base_uri": "https://localhost:8080/",
          "height": 354
        },
        "id": "ELIRA_SujGqI",
        "outputId": "c38f545e-b9b4-48df-9fb2-5e5a281e82be"
      },
      "outputs": [],
      "source": [
        "from sklearn.linear_model import LinearRegression\n",
        "from sklearn.model_selection import train_test_split\n",
        "from sklearn.metrics import mean_absolute_error, mean_squared_error, r2_score\n",
        "\n",
        "X = df[['trip_distance', 'passenger_count', 'RatecodeID', 'trip_duration']]\n",
        "y = df['total_amount']\n",
        "\n",
        "X_train, X_test, y_train, y_test = train_test_split(X, y, test_size= 0.3, random_state= 42)\n",
        "\n",
        "lr = LinearRegression()\n",
        "lr.fit(X_train, y_train)\n",
        "\n",
        "y_pred = lr.predict(X_test)\n",
        "print(\"Mean Absolute Error:\", mean_absolute_error(y_test, y_pred))\n",
        "print(\"Root Mean Squared Error:\", np.sqrt(mean_squared_error(y_test,y_pred)))\n",
        "print('Mean squared error:', mean_squared_error(y_test, y_pred))\n",
        "print('R2 Score:', r2_score(y_test, y_pred))\n",
        "plt.plot(y_pred, y_test, 'o')\n",
        "plt.plot([y_test.min(), y_test.max()], [y_test.min(), y_test.max()], 'k--', lw= 4)\n",
        "plt.xlabel('Predicted')\n",
        "plt.ylabel('Measured')\n",
        "plt.show()\n",
        "\n"
      ]
    },
    {
      "cell_type": "code",
      "execution_count": null,
      "metadata": {
        "colab": {
          "base_uri": "https://localhost:8080/",
          "height": 354
        },
        "id": "a2pj1C54iTAa",
        "outputId": "3c884bf6-88cb-4e77-94e8-a6283e724d50",
        "trusted": true
      },
      "outputs": [],
      "source": [
        "from sklearn.ensemble import RandomForestRegressor\n",
        "\n",
        "rf = RandomForestRegressor(n_estimators= 100, random_state= 42)\n",
        "rf.fit(X_train, y_train)\n",
        "\n",
        "y_pred = rf.predict(X_test)\n",
        "\n",
        "print(\"Mean Absolute Error:\", mean_absolute_error(y_test, y_pred))\n",
        "print(\"Root Mean Squared Error:\", np.sqrt(mean_squared_error(y_test,y_pred)))\n",
        "print('Mean squared error:', mean_squared_error(y_test, y_pred))\n",
        "print('R2 Score:', r2_score(y_test, y_pred))\n",
        "plt.plot(y_pred, y_test, 'o')\n",
        "plt.plot([y_test.min(), y_test.max()], [y_test.min(), y_test.max()], 'k--', lw= 4)\n",
        "plt.xlabel('Predicted')\n",
        "plt.ylabel('Measured')\n",
        "plt.show()\n"
      ]
    },
    {
      "cell_type": "code",
      "execution_count": null,
      "metadata": {
        "colab": {
          "base_uri": "https://localhost:8080/",
          "height": 392
        },
        "id": "CtkmDvHFiTAa",
        "outputId": "f9457d22-5c09-48c6-a170-92f5a72e5933",
        "trusted": true
      },
      "outputs": [],
      "source": [
        "from xgboost import XGBRegressor\n",
        "\n",
        "xgb = XGBRegressor(n_estimators= 100, random_state= 42)\n",
        "xgb.fit(X_train, y_train)\n",
        "\n",
        "y_pred = xgb.predict(X_test)\n",
        "\n",
        "print(\"Mean Absolute Error:\", mean_absolute_error(y_test, y_pred))\n",
        "print(\"Root Mean Squared Error:\", np.sqrt(mean_squared_error(y_test,y_pred)))\n",
        "print('Mean squared error:', mean_squared_error(y_test, y_pred))\n",
        "print('R2 Score:', r2_score(y_test, y_pred))\n",
        "plt.plot(y_pred, y_test, 'o')\n",
        "plt.plot([y_test.min(), y_test.max()], [y_test.min(), y_test.max()], 'k--', lw= 4)\n",
        "plt.xlabel('Predicted')\n",
        "plt.ylabel('Measured')\n",
        "plt.show()\n"
      ]
    },
    {
      "cell_type": "code",
      "execution_count": null,
      "metadata": {
        "colab": {
          "base_uri": "https://localhost:8080/",
          "height": 354
        },
        "id": "brdOMwaHiTAb",
        "outputId": "ca91843d-6914-43dc-debc-5cc293dd8243",
        "trusted": true
      },
      "outputs": [],
      "source": [
        "from lightgbm import LGBMRegressor\n",
        "\n",
        "\n",
        "lgbm = LGBMRegressor(n_estimators= 100, random_state= 42)\n",
        "lgbm.fit(X_train, y_train)\n",
        "\n",
        "y_pred = lgbm.predict(X_test)\n",
        "\n",
        "print(\"Mean Absolute Error:\", mean_absolute_error(y_test, y_pred))\n",
        "print(\"Root Mean Squared Error:\", np.sqrt(mean_squared_error(y_test,y_pred)))\n",
        "print('Mean squared error:', mean_squared_error(y_test, y_pred))\n",
        "print('R2 Score:', r2_score(y_test, y_pred))\n",
        "plt.plot(y_pred, y_test, 'o')\n",
        "plt.plot([y_test.min(), y_test.max()], [y_test.min(), y_test.max()], 'k--', lw= 4)\n",
        "plt.xlabel('Predicted')\n",
        "plt.ylabel('Measured')\n",
        "plt.show()\n",
        "\n",
        "\n"
      ]
    },
    {
      "cell_type": "code",
      "execution_count": null,
      "metadata": {
        "colab": {
          "base_uri": "https://localhost:8080/"
        },
        "id": "w8cOcL37jTTQ",
        "outputId": "d675073f-a244-4abe-eff2-0aa79c53f19b"
      },
      "outputs": [],
      "source": [
        "!pip install catboost"
      ]
    },
    {
      "cell_type": "code",
      "execution_count": null,
      "metadata": {
        "colab": {
          "base_uri": "https://localhost:8080/",
          "height": 1000
        },
        "id": "C3K5saryiTAb",
        "outputId": "90e15685-296f-46e1-c65d-66c83803fc27",
        "trusted": true
      },
      "outputs": [],
      "source": [
        "from catboost import CatBoostRegressor\n",
        "\n",
        "cat = CatBoostRegressor(n_estimators= 100, random_state= 42)\n",
        "cat.fit(X_train, y_train)\n",
        "\n",
        "y_pred = cat.predict(X_test)\n",
        "\n",
        "print(\"Mean Absolute Error:\", mean_absolute_error(y_test, y_pred))\n",
        "print(\"Root Mean Squared Error:\", np.sqrt(mean_squared_error(y_test,y_pred)))\n",
        "print('Mean squared error:', mean_squared_error(y_test, y_pred))\n",
        "print('R2 Score:', r2_score(y_test, y_pred))\n",
        "plt.plot(y_pred, y_test, 'o')\n",
        "plt.plot([y_test.min(), y_test.max()], [y_test.min(), y_test.max()], 'k--', lw= 4)\n",
        "plt.xlabel('Predicted')\n",
        "plt.ylabel('Measured')\n",
        "plt.show()\n"
      ]
    },
    {
      "cell_type": "code",
      "execution_count": null,
      "metadata": {
        "colab": {
          "base_uri": "https://localhost:8080/",
          "height": 354
        },
        "id": "gds5MjzDl6Ze",
        "outputId": "6c37584f-379c-4579-9407-1c1665363a62"
      },
      "outputs": [],
      "source": [
        "from sklearn.neighbors import KNeighborsRegressor\n",
        "\n",
        "knn = KNeighborsRegressor()\n",
        "knn.fit(X_train, y_train)\n",
        "\n",
        "y_pred = knn.predict(X_test)\n",
        "\n",
        "print(\"Mean Absolute Error:\", mean_absolute_error(y_test, y_pred))\n",
        "print(\"Root Mean Squared Error:\", np.sqrt(mean_squared_error(y_test,y_pred)))\n",
        "print('Mean squared error:', mean_squared_error(y_test, y_pred))\n",
        "print('R2 Score:', r2_score(y_test, y_pred))\n",
        "plt.plot(y_pred, y_test, 'o')\n",
        "plt.plot([y_test.min(), y_test.max()], [y_test.min(), y_test.max()], 'k--', lw= 4)\n",
        "plt.xlabel('Predicted')\n",
        "plt.ylabel('Measured')\n",
        "plt.show()\n",
        "\n"
      ]
    },
    {
      "cell_type": "code",
      "execution_count": null,
      "metadata": {
        "colab": {
          "base_uri": "https://localhost:8080/",
          "height": 354
        },
        "id": "5isbBQjkmkO2",
        "outputId": "5626ac44-90c8-4518-d3cf-14c422f8a3f5"
      },
      "outputs": [],
      "source": [
        "from sklearn.tree import DecisionTreeRegressor\n",
        "\n",
        "dt = DecisionTreeRegressor()\n",
        "dt.fit(X_train, y_train)\n",
        "\n",
        "y_pred = dt.predict(X_test)\n",
        "\n",
        "print(\"Mean Absolute Error:\", mean_absolute_error(y_test, y_pred))\n",
        "print(\"Root Mean Squared Error:\", np.sqrt(mean_squared_error(y_test,y_pred)))\n",
        "print('Mean squared error:', mean_squared_error(y_test, y_pred))\n",
        "print('R2 Score:', r2_score(y_test, y_pred))\n",
        "import matplotlib.pyplot as plt\n",
        "\n",
        "plt.plot(y_pred, y_test, 'o')\n",
        "plt.plot([y_test.min(), y_test.max()], [y_test.min(), y_test.max()], 'k--', lw= 4)\n",
        "plt.xlabel('Predicted')\n",
        "plt.ylabel('Measured')\n",
        "plt.show()\n"
      ]
    }
  ],
  "metadata": {
    "accelerator": "GPU",
    "colab": {
      "provenance": []
    },
    "gpuClass": "standard",
    "kernelspec": {
      "display_name": "Python 3",
      "language": "python",
      "name": "python3"
    },
    "language_info": {
      "codemirror_mode": {
        "name": "ipython",
        "version": 3
      },
      "file_extension": ".py",
      "mimetype": "text/x-python",
      "name": "python",
      "nbconvert_exporter": "python",
      "pygments_lexer": "ipython3",
      "version": "3.10.0"
    }
  },
  "nbformat": 4,
  "nbformat_minor": 0
}
